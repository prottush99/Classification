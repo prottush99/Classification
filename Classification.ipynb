{
 "cells": [
  {
   "cell_type": "markdown",
   "id": "30f24fbf",
   "metadata": {},
   "source": [
    "# PROBLEM STATEMENT"
   ]
  },
  {
   "cell_type": "markdown",
   "id": "7ab0d951",
   "metadata": {},
   "source": [
    "## Create a Machine Learning model using various Classification Models to predict rainfall. "
   ]
  },
  {
   "cell_type": "markdown",
   "id": "168ca3e4",
   "metadata": {},
   "source": [
    "### Questions "
   ]
  },
  {
   "cell_type": "markdown",
   "id": "3976ab07",
   "metadata": {},
   "source": [
    "#### 1. Your views about the problem statement? "
   ]
  },
  {
   "cell_type": "markdown",
   "id": "6f14c95f",
   "metadata": {},
   "source": [
    "Answer: The problem statement involves creating a Machine Learning model to predict rainfall in Sydney using various classification models. The data provided contains weather information from 2008 to 2017, including various features such as temperature, humidity, pressure, and more.The views  about the problem statement are as follows:\n",
    "\n",
    "- Relevance: The problem of rainfall prediction is highly relevant and valuable, as accurate weather forecasts are crucial for various activities and planning in daily life. Having a reliable weather prediction model can benefit the community by helping people make informed decisions and take appropriate actions based on weather conditions.\n",
    "\n",
    "- Machine Learning Approach: The use of Machine Learning models, specifically classification techniques, is appropriate for this problem. Classification models are well-suited for predicting binary outcomes, such as whether it will rain tomorrow . \n",
    "\n",
    "- Impact: Accurate weather prediction can have a significant impact on people's lives, businesses, agriculture, and infrastructure planning. A successful model can provide valuable insights for individuals, organizations, and policymakers to make informed decisions based on upcoming weather conditions.\n",
    "\n",
    "- Challenges: The challenges in this project may include dealing with missing data, selecting relevant features, optimizing hyperparameters for the ML models, and handling the imbalance in the target variable (RainTomorrow: Yes/No). Additionally, interpreting the models' predictions and understanding the importance of different features in the model's decision-making process might be important for the editor and readers.\n",
    "\n",
    "- Evaluation Metric: For a classification problem like this, commonly used evaluation metrics include accuracy, precision, recall, F1-score, and ROC-AUC. The choice of the evaluation metric will depend on the specific requirements and the importance of false positives and false negatives in the context of weather prediction."
   ]
  },
  {
   "cell_type": "markdown",
   "id": "dea7c3b4",
   "metadata": {},
   "source": [
    "####  2. What will be your approach to solving this task? "
   ]
  },
  {
   "cell_type": "markdown",
   "id": "0e7f8312",
   "metadata": {},
   "source": [
    "Answer: To solve the rainfall prediction task using Machine Learning, the approach would involve the following steps:\n",
    "\n",
    "a. Data Understanding and  Exploration:\n",
    "\n",
    "- Loading the provided weather dataset and explore its structure and contents.\n",
    "- Checking for missing values, data types, and statistical summaries of the features.\n",
    "\n",
    "b. Data Preprocessing:\n",
    "\n",
    "- Handle missing values\n",
    "- Convert categorical variables  into numerical format \n",
    "- Split the data into training and testing sets\n",
    "\n",
    "c. Feature Engineering:\n",
    "\n",
    "- create new features from existing ones that might enhance the model predictive power. \n",
    "\n",
    "d. Model Selection and Training:\n",
    "\n",
    "- Implement various classification models\n",
    "- Train the models on the training data and evaluate their performance on the testing data using appropriate evaluation metric.\n",
    "\n",
    "e. Model Evaluation:\n",
    "    \n",
    "- Compare the performance of different models and select the one with the highest accuracy and overall best performance.\n",
    "- Analyze the confusion matrix and other relevant metrics to understand the model strengths and weaknesses in predicting rainfall."
   ]
  },
  {
   "cell_type": "markdown",
   "id": "6ab330a0",
   "metadata": {},
   "source": [
    "#### 3. What were the available ML model options you had to perform this task?"
   ]
  },
  {
   "cell_type": "markdown",
   "id": "823e2641",
   "metadata": {},
   "source": [
    "Answer : For classification task, the below mentioned are the available ML models:\n",
    "\n",
    "- Multiple Logistic Regression\n",
    "\n",
    "- Ridge\n",
    "\n",
    "- Linear Discriminant Analysis(LDA)\n",
    "\n",
    "- K-Nearest Neighbors\n",
    "\n",
    "- Decision Tree\n",
    "\n",
    "- Bagging\n",
    "\n",
    "- Random Forest\n",
    "\n",
    "- Gradient Boosting\n",
    "\n",
    "- AdaBoost\n",
    "\n",
    "- XGBoost"
   ]
  },
  {
   "cell_type": "markdown",
   "id": "d5d6b258",
   "metadata": {},
   "source": [
    "#### 4. Which model’s performance is best and what could be the possible reason for that?  "
   ]
  },
  {
   "cell_type": "markdown",
   "id": "64b71996",
   "metadata": {},
   "source": [
    "Answer : Linear Discriminant Analysis (LDA) performed better with an accuracy score of  83 % than the other models  in the context of rainfall prediction. The reason are as follows:\n",
    "\n",
    "- Linear Relationship Assumption: LDA assumes that the data from different classes (in this case, \"RainTomorrow_Yes\"  1 and 0) are linearly separable. If the relationship between the features and the target variable (rainfall) is relatively linear, LDA  capture it effectively, leading to better performance.\n",
    "\n",
    "- Dimensionality Reduction: LDA performs dimensionality reduction while maximizing the separation between classes. It tries to find the direction that best separates the classes. This reduction in dimensionality can be beneficial when dealing with high-dimensional datasets, as it reduces the risk of overfitting and improves the generalization of the model.\n",
    "\n",
    "- Robust to Multicollinearity: LDA is less sensitive to multicollinearity among the features compared to some other models, such as multiple logistic regression. If there are strong correlations between predictors, LDA can handle it better and still provide good predictive performance.\n",
    "\n",
    "- Balancing Class Distribution: If the dataset is imbalanced , LDA can still perform well. It tries to find a projection that maximizes the separation between classes, even with imbalanced data.\n",
    "\n",
    "- Assumption of Normality: LDA assumes that the features follow a multivariate normal distribution in each class. \n",
    "\n",
    "- Regularization: Some of the other models like Ridge, Gradient Boosting, and XGBoost have regularization techniques that may not be well-suited for this dataset. LDA, being a linear model, has a simple structure and regularization may not be necessary.\n",
    "\n",
    "- Limited Data: When the dataset is relatively small, more complex models like Random Forest, Gradient Boosting, or XGBoost may not have enough data to learn complex relationships, leading to overfitting. LDA, being a simpler model, can be more stable and perform better in such situations."
   ]
  },
  {
   "cell_type": "markdown",
   "id": "91918513",
   "metadata": {},
   "source": [
    "#### 5. What steps can you take to improve this selected model’s performance even further?   "
   ]
  },
  {
   "cell_type": "markdown",
   "id": "18f5f111",
   "metadata": {},
   "source": [
    "Answer: To further improve the performance of the selected Linear Discriminant Analysis (LDA) model for rainfall prediction, we can consider the following steps:\n",
    "\n",
    "- Feature Engineering: Exploring the possibility of creating additional relevant features or transforming existing ones to better capture patterns in the data. \n",
    "\n",
    "- Hyperparameter Tuning: Fine-tune the hyperparameters of the LDA model. We can use techniques like Grid Search or Randomized Search to explore a range of hyperparameter values and find the optimal combination that maximizes performance.\n",
    "\n",
    "- Cross-Validation: Using cross-validation will help to evaluate the model's performance more robustly. This will help to estimate the model's generalization performance and reduce the risk of overfitting.\n",
    "\n",
    "- Domain Knowledge: Incorporating domain knowledge and insights into the feature engineering and modeling process. Understanding the relevant weather factors and their impact on rainfall can guide  in selecting the most appropriate features and modeling approach.\n",
    "\n",
    "- Data Collection:  Collecting more recent and comprehensive weather data to update the training dataset. The use of up-to-date data can potentially improve the model's predictive ability for current weather patterns.\n"
   ]
  },
  {
   "cell_type": "markdown",
   "id": "02334051",
   "metadata": {},
   "source": [
    "## IMPORT NECESSARY LIBRARY  "
   ]
  },
  {
   "cell_type": "code",
   "execution_count": 1,
   "id": "2bef085e",
   "metadata": {},
   "outputs": [],
   "source": [
    "import pandas as pd\n",
    "import xgboost as xgb\n",
    "import seaborn as sns\n",
    "from sklearn import preprocessing\n",
    "from sklearn.model_selection import train_test_split\n",
    "from sklearn.neighbors import KNeighborsClassifier\n",
    "from sklearn.tree import DecisionTreeClassifier\n",
    "from sklearn.linear_model import RidgeClassifier\n",
    "from sklearn.model_selection import GridSearchCV\n",
    "from sklearn.ensemble import RandomForestClassifier\n",
    "from sklearn.ensemble import GradientBoostingClassifier\n",
    "from sklearn.model_selection import train_test_split, GridSearchCV\n",
    "from xgboost import XGBClassifier\n",
    "from sklearn.metrics import mean_squared_error, r2_score\n",
    "from sklearn.linear_model import LogisticRegression\n",
    "from sklearn.metrics  import confusion_matrix\n",
    "from sklearn.metrics  import  precision_score,recall_score,roc_auc_score\n",
    "from sklearn.discriminant_analysis import LinearDiscriminantAnalysis\n",
    "from sklearn.metrics import accuracy_score\n",
    "from sklearn.preprocessing import StandardScaler"
   ]
  },
  {
   "cell_type": "markdown",
   "id": "24c5eb07",
   "metadata": {},
   "source": [
    "#  LOAD DATASET"
   ]
  },
  {
   "cell_type": "code",
   "execution_count": 2,
   "id": "f2ec8695",
   "metadata": {},
   "outputs": [],
   "source": [
    "# Reading the dataset\n",
    "df= pd.read_csv('C:\\\\Users\\\\ntpc\\\\Desktop\\\\sydney_rain prediction.csv',header=0)"
   ]
  },
  {
   "cell_type": "code",
   "execution_count": 3,
   "id": "a225faf3",
   "metadata": {},
   "outputs": [
    {
     "data": {
      "text/html": [
       "<div>\n",
       "<style scoped>\n",
       "    .dataframe tbody tr th:only-of-type {\n",
       "        vertical-align: middle;\n",
       "    }\n",
       "\n",
       "    .dataframe tbody tr th {\n",
       "        vertical-align: top;\n",
       "    }\n",
       "\n",
       "    .dataframe thead th {\n",
       "        text-align: right;\n",
       "    }\n",
       "</style>\n",
       "<table border=\"1\" class=\"dataframe\">\n",
       "  <thead>\n",
       "    <tr style=\"text-align: right;\">\n",
       "      <th></th>\n",
       "      <th>Date</th>\n",
       "      <th>Location</th>\n",
       "      <th>MinTemp</th>\n",
       "      <th>MaxTemp</th>\n",
       "      <th>Rainfall</th>\n",
       "      <th>Evaporation</th>\n",
       "      <th>Sunshine</th>\n",
       "      <th>Humidity9am</th>\n",
       "      <th>Humidity3pm</th>\n",
       "      <th>Pressure9am</th>\n",
       "      <th>Pressure3pm</th>\n",
       "      <th>Cloud9am</th>\n",
       "      <th>Cloud3pm</th>\n",
       "      <th>Temp9am</th>\n",
       "      <th>Temp3pm</th>\n",
       "      <th>RainToday</th>\n",
       "      <th>RainTomorrow</th>\n",
       "    </tr>\n",
       "  </thead>\n",
       "  <tbody>\n",
       "    <tr>\n",
       "      <th>0</th>\n",
       "      <td>01-02-2008</td>\n",
       "      <td>Sydney</td>\n",
       "      <td>19.5</td>\n",
       "      <td>22.4</td>\n",
       "      <td>15.6</td>\n",
       "      <td>6.2</td>\n",
       "      <td>0.0</td>\n",
       "      <td>92.0</td>\n",
       "      <td>84.0</td>\n",
       "      <td>1017.6</td>\n",
       "      <td>1017.4</td>\n",
       "      <td>8.0</td>\n",
       "      <td>8.0</td>\n",
       "      <td>20.7</td>\n",
       "      <td>20.9</td>\n",
       "      <td>Yes</td>\n",
       "      <td>Yes</td>\n",
       "    </tr>\n",
       "    <tr>\n",
       "      <th>1</th>\n",
       "      <td>02-02-2008</td>\n",
       "      <td>Sydney</td>\n",
       "      <td>19.5</td>\n",
       "      <td>25.6</td>\n",
       "      <td>6.0</td>\n",
       "      <td>3.4</td>\n",
       "      <td>2.7</td>\n",
       "      <td>83.0</td>\n",
       "      <td>73.0</td>\n",
       "      <td>1017.9</td>\n",
       "      <td>1016.4</td>\n",
       "      <td>7.0</td>\n",
       "      <td>7.0</td>\n",
       "      <td>22.4</td>\n",
       "      <td>24.8</td>\n",
       "      <td>Yes</td>\n",
       "      <td>Yes</td>\n",
       "    </tr>\n",
       "    <tr>\n",
       "      <th>2</th>\n",
       "      <td>03-02-2008</td>\n",
       "      <td>Sydney</td>\n",
       "      <td>21.6</td>\n",
       "      <td>24.5</td>\n",
       "      <td>6.6</td>\n",
       "      <td>2.4</td>\n",
       "      <td>0.1</td>\n",
       "      <td>88.0</td>\n",
       "      <td>86.0</td>\n",
       "      <td>1016.7</td>\n",
       "      <td>1015.6</td>\n",
       "      <td>7.0</td>\n",
       "      <td>8.0</td>\n",
       "      <td>23.5</td>\n",
       "      <td>23.0</td>\n",
       "      <td>Yes</td>\n",
       "      <td>Yes</td>\n",
       "    </tr>\n",
       "    <tr>\n",
       "      <th>3</th>\n",
       "      <td>04-02-2008</td>\n",
       "      <td>Sydney</td>\n",
       "      <td>20.2</td>\n",
       "      <td>22.8</td>\n",
       "      <td>18.8</td>\n",
       "      <td>2.2</td>\n",
       "      <td>0.0</td>\n",
       "      <td>83.0</td>\n",
       "      <td>90.0</td>\n",
       "      <td>1014.2</td>\n",
       "      <td>1011.8</td>\n",
       "      <td>8.0</td>\n",
       "      <td>8.0</td>\n",
       "      <td>21.4</td>\n",
       "      <td>20.9</td>\n",
       "      <td>Yes</td>\n",
       "      <td>Yes</td>\n",
       "    </tr>\n",
       "    <tr>\n",
       "      <th>4</th>\n",
       "      <td>05-02-2008</td>\n",
       "      <td>Sydney</td>\n",
       "      <td>19.7</td>\n",
       "      <td>25.7</td>\n",
       "      <td>77.4</td>\n",
       "      <td>NaN</td>\n",
       "      <td>0.0</td>\n",
       "      <td>88.0</td>\n",
       "      <td>74.0</td>\n",
       "      <td>1008.3</td>\n",
       "      <td>1004.8</td>\n",
       "      <td>8.0</td>\n",
       "      <td>8.0</td>\n",
       "      <td>22.5</td>\n",
       "      <td>25.5</td>\n",
       "      <td>Yes</td>\n",
       "      <td>Yes</td>\n",
       "    </tr>\n",
       "  </tbody>\n",
       "</table>\n",
       "</div>"
      ],
      "text/plain": [
       "         Date Location  MinTemp  MaxTemp  Rainfall  Evaporation  Sunshine  \\\n",
       "0  01-02-2008   Sydney     19.5     22.4      15.6          6.2       0.0   \n",
       "1  02-02-2008   Sydney     19.5     25.6       6.0          3.4       2.7   \n",
       "2  03-02-2008   Sydney     21.6     24.5       6.6          2.4       0.1   \n",
       "3  04-02-2008   Sydney     20.2     22.8      18.8          2.2       0.0   \n",
       "4  05-02-2008   Sydney     19.7     25.7      77.4          NaN       0.0   \n",
       "\n",
       "   Humidity9am  Humidity3pm  Pressure9am  Pressure3pm  Cloud9am  Cloud3pm  \\\n",
       "0         92.0         84.0       1017.6       1017.4       8.0       8.0   \n",
       "1         83.0         73.0       1017.9       1016.4       7.0       7.0   \n",
       "2         88.0         86.0       1016.7       1015.6       7.0       8.0   \n",
       "3         83.0         90.0       1014.2       1011.8       8.0       8.0   \n",
       "4         88.0         74.0       1008.3       1004.8       8.0       8.0   \n",
       "\n",
       "   Temp9am  Temp3pm RainToday RainTomorrow  \n",
       "0     20.7     20.9       Yes          Yes  \n",
       "1     22.4     24.8       Yes          Yes  \n",
       "2     23.5     23.0       Yes          Yes  \n",
       "3     21.4     20.9       Yes          Yes  \n",
       "4     22.5     25.5       Yes          Yes  "
      ]
     },
     "execution_count": 3,
     "metadata": {},
     "output_type": "execute_result"
    }
   ],
   "source": [
    "# Fetching First 5 rows\n",
    "df.head()"
   ]
  },
  {
   "cell_type": "code",
   "execution_count": 4,
   "id": "ca366411",
   "metadata": {},
   "outputs": [
    {
     "data": {
      "text/plain": [
       "(3337, 17)"
      ]
     },
     "execution_count": 4,
     "metadata": {},
     "output_type": "execute_result"
    }
   ],
   "source": [
    "#checking shape of the dataset\n",
    "df.shape"
   ]
  },
  {
   "cell_type": "code",
   "execution_count": 5,
   "id": "6a1b37a6",
   "metadata": {},
   "outputs": [
    {
     "data": {
      "text/plain": [
       "Index(['Date', 'Location', 'MinTemp', 'MaxTemp', 'Rainfall', 'Evaporation',\n",
       "       'Sunshine', 'Humidity9am', 'Humidity3pm', 'Pressure9am', 'Pressure3pm',\n",
       "       'Cloud9am', 'Cloud3pm', 'Temp9am', 'Temp3pm', 'RainToday',\n",
       "       'RainTomorrow'],\n",
       "      dtype='object')"
      ]
     },
     "execution_count": 5,
     "metadata": {},
     "output_type": "execute_result"
    }
   ],
   "source": [
    "# checking column name\n",
    "df.columns"
   ]
  },
  {
   "cell_type": "code",
   "execution_count": 6,
   "id": "ce963cc4",
   "metadata": {},
   "outputs": [
    {
     "name": "stdout",
     "output_type": "stream",
     "text": [
      "<class 'pandas.core.frame.DataFrame'>\n",
      "RangeIndex: 3337 entries, 0 to 3336\n",
      "Data columns (total 17 columns):\n",
      " #   Column        Non-Null Count  Dtype  \n",
      "---  ------        --------------  -----  \n",
      " 0   Date          3337 non-null   object \n",
      " 1   Location      3337 non-null   object \n",
      " 2   MinTemp       3334 non-null   float64\n",
      " 3   MaxTemp       3335 non-null   float64\n",
      " 4   Rainfall      3331 non-null   float64\n",
      " 5   Evaporation   3286 non-null   float64\n",
      " 6   Sunshine      3321 non-null   float64\n",
      " 7   Humidity9am   3323 non-null   float64\n",
      " 8   Humidity3pm   3324 non-null   float64\n",
      " 9   Pressure9am   3317 non-null   float64\n",
      " 10  Pressure3pm   3318 non-null   float64\n",
      " 11  Cloud9am      2771 non-null   float64\n",
      " 12  Cloud3pm      2776 non-null   float64\n",
      " 13  Temp9am       3333 non-null   float64\n",
      " 14  Temp3pm       3333 non-null   float64\n",
      " 15  RainToday     3331 non-null   object \n",
      " 16  RainTomorrow  3337 non-null   object \n",
      "dtypes: float64(13), object(4)\n",
      "memory usage: 443.3+ KB\n"
     ]
    }
   ],
   "source": [
    "# Checking type of column data\n",
    "df.info()"
   ]
  },
  {
   "cell_type": "code",
   "execution_count": 7,
   "id": "076c60b0",
   "metadata": {},
   "outputs": [
    {
     "data": {
      "text/plain": [
       "Date              0\n",
       "Location          0\n",
       "MinTemp           3\n",
       "MaxTemp           2\n",
       "Rainfall          6\n",
       "Evaporation      51\n",
       "Sunshine         16\n",
       "Humidity9am      14\n",
       "Humidity3pm      13\n",
       "Pressure9am      20\n",
       "Pressure3pm      19\n",
       "Cloud9am        566\n",
       "Cloud3pm        561\n",
       "Temp9am           4\n",
       "Temp3pm           4\n",
       "RainToday         6\n",
       "RainTomorrow      0\n",
       "dtype: int64"
      ]
     },
     "execution_count": 7,
     "metadata": {},
     "output_type": "execute_result"
    }
   ],
   "source": [
    "#Checking null vales\n",
    "df.isnull().sum()"
   ]
  },
  {
   "cell_type": "markdown",
   "id": "485de24b",
   "metadata": {},
   "source": [
    "MinTemp', 'MaxTemp', 'Rainfall', 'Evaporation','Sunshine', 'Humidity9am', 'Humidity3pm', 'Pressure9am', 'Pressure3pm', 'Cloud9am', 'Cloud3pm', 'Temp9am', 'Temp3pm', 'RainToday' has null values"
   ]
  },
  {
   "cell_type": "code",
   "execution_count": 8,
   "id": "a2f6b8a5",
   "metadata": {},
   "outputs": [
    {
     "data": {
      "text/html": [
       "<div>\n",
       "<style scoped>\n",
       "    .dataframe tbody tr th:only-of-type {\n",
       "        vertical-align: middle;\n",
       "    }\n",
       "\n",
       "    .dataframe tbody tr th {\n",
       "        vertical-align: top;\n",
       "    }\n",
       "\n",
       "    .dataframe thead th {\n",
       "        text-align: right;\n",
       "    }\n",
       "</style>\n",
       "<table border=\"1\" class=\"dataframe\">\n",
       "  <thead>\n",
       "    <tr style=\"text-align: right;\">\n",
       "      <th></th>\n",
       "      <th>MinTemp</th>\n",
       "      <th>MaxTemp</th>\n",
       "      <th>Rainfall</th>\n",
       "      <th>Evaporation</th>\n",
       "      <th>Sunshine</th>\n",
       "      <th>Humidity9am</th>\n",
       "      <th>Humidity3pm</th>\n",
       "      <th>Pressure9am</th>\n",
       "      <th>Pressure3pm</th>\n",
       "      <th>Cloud9am</th>\n",
       "      <th>Cloud3pm</th>\n",
       "      <th>Temp9am</th>\n",
       "      <th>Temp3pm</th>\n",
       "    </tr>\n",
       "  </thead>\n",
       "  <tbody>\n",
       "    <tr>\n",
       "      <th>count</th>\n",
       "      <td>3334.000000</td>\n",
       "      <td>3335.000000</td>\n",
       "      <td>3331.000000</td>\n",
       "      <td>3286.000000</td>\n",
       "      <td>3321.000000</td>\n",
       "      <td>3323.000000</td>\n",
       "      <td>3324.000000</td>\n",
       "      <td>3317.000000</td>\n",
       "      <td>3318.000000</td>\n",
       "      <td>2771.000000</td>\n",
       "      <td>2776.000000</td>\n",
       "      <td>3333.000000</td>\n",
       "      <td>3333.000000</td>\n",
       "    </tr>\n",
       "    <tr>\n",
       "      <th>mean</th>\n",
       "      <td>14.865057</td>\n",
       "      <td>23.002339</td>\n",
       "      <td>3.330231</td>\n",
       "      <td>5.187432</td>\n",
       "      <td>7.179374</td>\n",
       "      <td>68.229010</td>\n",
       "      <td>54.699158</td>\n",
       "      <td>1018.346156</td>\n",
       "      <td>1016.018774</td>\n",
       "      <td>4.181523</td>\n",
       "      <td>4.218660</td>\n",
       "      <td>17.819742</td>\n",
       "      <td>21.533333</td>\n",
       "    </tr>\n",
       "    <tr>\n",
       "      <th>std</th>\n",
       "      <td>4.553641</td>\n",
       "      <td>4.494638</td>\n",
       "      <td>9.895172</td>\n",
       "      <td>2.777407</td>\n",
       "      <td>3.810886</td>\n",
       "      <td>15.085355</td>\n",
       "      <td>16.293530</td>\n",
       "      <td>7.021571</td>\n",
       "      <td>7.032211</td>\n",
       "      <td>2.749578</td>\n",
       "      <td>2.641885</td>\n",
       "      <td>4.897177</td>\n",
       "      <td>4.303737</td>\n",
       "    </tr>\n",
       "    <tr>\n",
       "      <th>min</th>\n",
       "      <td>4.300000</td>\n",
       "      <td>11.700000</td>\n",
       "      <td>0.000000</td>\n",
       "      <td>0.000000</td>\n",
       "      <td>0.000000</td>\n",
       "      <td>19.000000</td>\n",
       "      <td>10.000000</td>\n",
       "      <td>986.700000</td>\n",
       "      <td>989.800000</td>\n",
       "      <td>0.000000</td>\n",
       "      <td>0.000000</td>\n",
       "      <td>6.400000</td>\n",
       "      <td>10.200000</td>\n",
       "    </tr>\n",
       "    <tr>\n",
       "      <th>25%</th>\n",
       "      <td>11.000000</td>\n",
       "      <td>19.600000</td>\n",
       "      <td>0.000000</td>\n",
       "      <td>3.200000</td>\n",
       "      <td>4.300000</td>\n",
       "      <td>58.000000</td>\n",
       "      <td>44.000000</td>\n",
       "      <td>1013.700000</td>\n",
       "      <td>1011.300000</td>\n",
       "      <td>1.000000</td>\n",
       "      <td>1.000000</td>\n",
       "      <td>13.800000</td>\n",
       "      <td>18.400000</td>\n",
       "    </tr>\n",
       "    <tr>\n",
       "      <th>50%</th>\n",
       "      <td>14.900000</td>\n",
       "      <td>22.800000</td>\n",
       "      <td>0.000000</td>\n",
       "      <td>4.800000</td>\n",
       "      <td>8.300000</td>\n",
       "      <td>69.000000</td>\n",
       "      <td>56.000000</td>\n",
       "      <td>1018.600000</td>\n",
       "      <td>1016.300000</td>\n",
       "      <td>5.000000</td>\n",
       "      <td>4.000000</td>\n",
       "      <td>18.200000</td>\n",
       "      <td>21.300000</td>\n",
       "    </tr>\n",
       "    <tr>\n",
       "      <th>75%</th>\n",
       "      <td>18.700000</td>\n",
       "      <td>26.000000</td>\n",
       "      <td>1.400000</td>\n",
       "      <td>7.000000</td>\n",
       "      <td>10.200000</td>\n",
       "      <td>80.000000</td>\n",
       "      <td>65.000000</td>\n",
       "      <td>1023.100000</td>\n",
       "      <td>1020.800000</td>\n",
       "      <td>7.000000</td>\n",
       "      <td>7.000000</td>\n",
       "      <td>21.700000</td>\n",
       "      <td>24.500000</td>\n",
       "    </tr>\n",
       "    <tr>\n",
       "      <th>max</th>\n",
       "      <td>27.600000</td>\n",
       "      <td>45.800000</td>\n",
       "      <td>119.400000</td>\n",
       "      <td>18.400000</td>\n",
       "      <td>13.600000</td>\n",
       "      <td>100.000000</td>\n",
       "      <td>99.000000</td>\n",
       "      <td>1039.000000</td>\n",
       "      <td>1036.700000</td>\n",
       "      <td>9.000000</td>\n",
       "      <td>8.000000</td>\n",
       "      <td>36.500000</td>\n",
       "      <td>44.700000</td>\n",
       "    </tr>\n",
       "  </tbody>\n",
       "</table>\n",
       "</div>"
      ],
      "text/plain": [
       "           MinTemp      MaxTemp     Rainfall  Evaporation     Sunshine  \\\n",
       "count  3334.000000  3335.000000  3331.000000  3286.000000  3321.000000   \n",
       "mean     14.865057    23.002339     3.330231     5.187432     7.179374   \n",
       "std       4.553641     4.494638     9.895172     2.777407     3.810886   \n",
       "min       4.300000    11.700000     0.000000     0.000000     0.000000   \n",
       "25%      11.000000    19.600000     0.000000     3.200000     4.300000   \n",
       "50%      14.900000    22.800000     0.000000     4.800000     8.300000   \n",
       "75%      18.700000    26.000000     1.400000     7.000000    10.200000   \n",
       "max      27.600000    45.800000   119.400000    18.400000    13.600000   \n",
       "\n",
       "       Humidity9am  Humidity3pm  Pressure9am  Pressure3pm     Cloud9am  \\\n",
       "count  3323.000000  3324.000000  3317.000000  3318.000000  2771.000000   \n",
       "mean     68.229010    54.699158  1018.346156  1016.018774     4.181523   \n",
       "std      15.085355    16.293530     7.021571     7.032211     2.749578   \n",
       "min      19.000000    10.000000   986.700000   989.800000     0.000000   \n",
       "25%      58.000000    44.000000  1013.700000  1011.300000     1.000000   \n",
       "50%      69.000000    56.000000  1018.600000  1016.300000     5.000000   \n",
       "75%      80.000000    65.000000  1023.100000  1020.800000     7.000000   \n",
       "max     100.000000    99.000000  1039.000000  1036.700000     9.000000   \n",
       "\n",
       "          Cloud3pm      Temp9am      Temp3pm  \n",
       "count  2776.000000  3333.000000  3333.000000  \n",
       "mean      4.218660    17.819742    21.533333  \n",
       "std       2.641885     4.897177     4.303737  \n",
       "min       0.000000     6.400000    10.200000  \n",
       "25%       1.000000    13.800000    18.400000  \n",
       "50%       4.000000    18.200000    21.300000  \n",
       "75%       7.000000    21.700000    24.500000  \n",
       "max       8.000000    36.500000    44.700000  "
      ]
     },
     "execution_count": 8,
     "metadata": {},
     "output_type": "execute_result"
    }
   ],
   "source": [
    "# summarize data\n",
    "df.describe()"
   ]
  },
  {
   "cell_type": "code",
   "execution_count": 9,
   "id": "fa9b677e",
   "metadata": {},
   "outputs": [],
   "source": [
    "# dropping null values\n",
    "df.dropna(subset=['MinTemp', 'MaxTemp', 'Rainfall','Evaporation','Sunshine','Humidity9am','Humidity3pm','Pressure9am','Pressure3pm','Cloud9am','Cloud3pm','Temp9am','Temp3pm','RainToday'],inplace=True)"
   ]
  },
  {
   "cell_type": "code",
   "execution_count": 10,
   "id": "2334c7ee",
   "metadata": {},
   "outputs": [
    {
     "data": {
      "text/plain": [
       "(2677, 17)"
      ]
     },
     "execution_count": 10,
     "metadata": {},
     "output_type": "execute_result"
    }
   ],
   "source": [
    "# Checking shape of data post removing null values\n",
    "df.shape"
   ]
  },
  {
   "cell_type": "code",
   "execution_count": 11,
   "id": "0d86d20f",
   "metadata": {},
   "outputs": [
    {
     "data": {
      "text/plain": [
       "Date            0\n",
       "Location        0\n",
       "MinTemp         0\n",
       "MaxTemp         0\n",
       "Rainfall        0\n",
       "Evaporation     0\n",
       "Sunshine        0\n",
       "Humidity9am     0\n",
       "Humidity3pm     0\n",
       "Pressure9am     0\n",
       "Pressure3pm     0\n",
       "Cloud9am        0\n",
       "Cloud3pm        0\n",
       "Temp9am         0\n",
       "Temp3pm         0\n",
       "RainToday       0\n",
       "RainTomorrow    0\n",
       "dtype: int64"
      ]
     },
     "execution_count": 11,
     "metadata": {},
     "output_type": "execute_result"
    }
   ],
   "source": [
    "df.isnull().sum()"
   ]
  },
  {
   "cell_type": "code",
   "execution_count": 12,
   "id": "6bdd3afb",
   "metadata": {},
   "outputs": [],
   "source": [
    "#creating dummy variable for RainToday\n",
    "df = pd.get_dummies(df, columns=['RainToday'], drop_first=True)"
   ]
  },
  {
   "cell_type": "code",
   "execution_count": 13,
   "id": "f09212eb",
   "metadata": {},
   "outputs": [],
   "source": [
    "#creating dummy variable for RainTomorrow\n",
    "df = pd.get_dummies(df, columns=['RainTomorrow'], drop_first=True)"
   ]
  },
  {
   "cell_type": "code",
   "execution_count": 14,
   "id": "d80978cb",
   "metadata": {},
   "outputs": [
    {
     "data": {
      "text/plain": [
       "<AxesSubplot:xlabel='RainTomorrow_Yes', ylabel='count'>"
      ]
     },
     "execution_count": 14,
     "metadata": {},
     "output_type": "execute_result"
    },
    {
     "data": {
      "image/png": "[encoded data removed]",
      "text/plain": [
       "<Figure size 432x288 with 1 Axes>"
      ]
     },
     "metadata": {
      "needs_background": "light"
     },
     "output_type": "display_data"
    }
   ],
   "source": [
    "# Visualizing RainTomorrow_Yes\n",
    "sns.countplot(x='RainTomorrow_Yes',data=df)"
   ]
  },
  {
   "cell_type": "markdown",
   "id": "83f20c58",
   "metadata": {},
   "source": [
    "### Implementing Variable Tranformation and Variable deletion to improve the performance and interpretability of machine learning models  "
   ]
  },
  {
   "cell_type": "code",
   "execution_count": 15,
   "id": "4008dae6",
   "metadata": {},
   "outputs": [],
   "source": [
    "# Transforming Variable Max Temp and Min Temp \n",
    "df['RangeTemp'] = df['MaxTemp'] - df['MinTemp']"
   ]
  },
  {
   "cell_type": "code",
   "execution_count": 16,
   "id": "d45cca93",
   "metadata": {},
   "outputs": [],
   "source": [
    "# Dropping Variable Max Temp and Min Temp\n",
    "df.drop(['MinTemp', 'MaxTemp'], axis=1, inplace=True)"
   ]
  },
  {
   "cell_type": "code",
   "execution_count": 17,
   "id": "6792c076",
   "metadata": {},
   "outputs": [],
   "source": [
    "# Dropping Variable Date and Location  as they are not be useful for prediction\n",
    "df.drop(columns=[\"Date\", \"Location\"], axis=1,inplace=True)"
   ]
  },
  {
   "cell_type": "code",
   "execution_count": 18,
   "id": "315489f5",
   "metadata": {},
   "outputs": [],
   "source": [
    "# Creating Avg_Humidity variable\n",
    "df['Avg_Humidity']=(df['Humidity3pm'] + df['Humidity9am'])/2"
   ]
  },
  {
   "cell_type": "code",
   "execution_count": 19,
   "id": "4f5b21a6",
   "metadata": {},
   "outputs": [],
   "source": [
    "# Creating Avg_Pressure variable\n",
    "df['Avg_Pressure']=(df['Pressure3pm'] + df['Pressure9am'])/2"
   ]
  },
  {
   "cell_type": "code",
   "execution_count": 20,
   "id": "af62f374",
   "metadata": {},
   "outputs": [],
   "source": [
    "# Creating Avg_Cloud variable\n",
    "df['Avg_Cloud']=(df['Cloud3pm'] + df['Cloud9am'])/2"
   ]
  },
  {
   "cell_type": "code",
   "execution_count": 21,
   "id": "caec19fe",
   "metadata": {},
   "outputs": [],
   "source": [
    "# Creating Avg_Tempd variable\n",
    "df['Avg_Temp']=(df['Temp3pm'] + df['Temp9am'])/2"
   ]
  },
  {
   "cell_type": "code",
   "execution_count": 22,
   "id": "66e6805c",
   "metadata": {},
   "outputs": [],
   "source": [
    "# dropping the irrelevant columns\n",
    "df.drop(['Humidity3pm', 'Humidity9am','Pressure3pm','Pressure9am','Cloud3pm','Cloud9am','Temp3pm','Temp9am'], axis=1, inplace=True)"
   ]
  },
  {
   "cell_type": "code",
   "execution_count": 23,
   "id": "4fd9d425",
   "metadata": {},
   "outputs": [
    {
     "data": {
      "text/html": [
       "<div>\n",
       "<style scoped>\n",
       "    .dataframe tbody tr th:only-of-type {\n",
       "        vertical-align: middle;\n",
       "    }\n",
       "\n",
       "    .dataframe tbody tr th {\n",
       "        vertical-align: top;\n",
       "    }\n",
       "\n",
       "    .dataframe thead th {\n",
       "        text-align: right;\n",
       "    }\n",
       "</style>\n",
       "<table border=\"1\" class=\"dataframe\">\n",
       "  <thead>\n",
       "    <tr style=\"text-align: right;\">\n",
       "      <th></th>\n",
       "      <th>Rainfall</th>\n",
       "      <th>Evaporation</th>\n",
       "      <th>Sunshine</th>\n",
       "      <th>RainToday_Yes</th>\n",
       "      <th>RainTomorrow_Yes</th>\n",
       "      <th>RangeTemp</th>\n",
       "      <th>Avg_Humidity</th>\n",
       "      <th>Avg_Pressure</th>\n",
       "      <th>Avg_Cloud</th>\n",
       "      <th>Avg_Temp</th>\n",
       "    </tr>\n",
       "  </thead>\n",
       "  <tbody>\n",
       "    <tr>\n",
       "      <th>0</th>\n",
       "      <td>15.6</td>\n",
       "      <td>6.2</td>\n",
       "      <td>0.0</td>\n",
       "      <td>1</td>\n",
       "      <td>1</td>\n",
       "      <td>2.9</td>\n",
       "      <td>88.0</td>\n",
       "      <td>1017.50</td>\n",
       "      <td>8.0</td>\n",
       "      <td>20.80</td>\n",
       "    </tr>\n",
       "    <tr>\n",
       "      <th>1</th>\n",
       "      <td>6.0</td>\n",
       "      <td>3.4</td>\n",
       "      <td>2.7</td>\n",
       "      <td>1</td>\n",
       "      <td>1</td>\n",
       "      <td>6.1</td>\n",
       "      <td>78.0</td>\n",
       "      <td>1017.15</td>\n",
       "      <td>7.0</td>\n",
       "      <td>23.60</td>\n",
       "    </tr>\n",
       "    <tr>\n",
       "      <th>2</th>\n",
       "      <td>6.6</td>\n",
       "      <td>2.4</td>\n",
       "      <td>0.1</td>\n",
       "      <td>1</td>\n",
       "      <td>1</td>\n",
       "      <td>2.9</td>\n",
       "      <td>87.0</td>\n",
       "      <td>1016.15</td>\n",
       "      <td>7.5</td>\n",
       "      <td>23.25</td>\n",
       "    </tr>\n",
       "    <tr>\n",
       "      <th>3</th>\n",
       "      <td>18.8</td>\n",
       "      <td>2.2</td>\n",
       "      <td>0.0</td>\n",
       "      <td>1</td>\n",
       "      <td>1</td>\n",
       "      <td>2.6</td>\n",
       "      <td>86.5</td>\n",
       "      <td>1013.00</td>\n",
       "      <td>8.0</td>\n",
       "      <td>21.15</td>\n",
       "    </tr>\n",
       "    <tr>\n",
       "      <th>5</th>\n",
       "      <td>1.6</td>\n",
       "      <td>2.6</td>\n",
       "      <td>8.6</td>\n",
       "      <td>1</td>\n",
       "      <td>1</td>\n",
       "      <td>7.0</td>\n",
       "      <td>65.5</td>\n",
       "      <td>1000.65</td>\n",
       "      <td>6.0</td>\n",
       "      <td>24.90</td>\n",
       "    </tr>\n",
       "  </tbody>\n",
       "</table>\n",
       "</div>"
      ],
      "text/plain": [
       "   Rainfall  Evaporation  Sunshine  RainToday_Yes  RainTomorrow_Yes  \\\n",
       "0      15.6          6.2       0.0              1                 1   \n",
       "1       6.0          3.4       2.7              1                 1   \n",
       "2       6.6          2.4       0.1              1                 1   \n",
       "3      18.8          2.2       0.0              1                 1   \n",
       "5       1.6          2.6       8.6              1                 1   \n",
       "\n",
       "   RangeTemp  Avg_Humidity  Avg_Pressure  Avg_Cloud  Avg_Temp  \n",
       "0        2.9          88.0       1017.50        8.0     20.80  \n",
       "1        6.1          78.0       1017.15        7.0     23.60  \n",
       "2        2.9          87.0       1016.15        7.5     23.25  \n",
       "3        2.6          86.5       1013.00        8.0     21.15  \n",
       "5        7.0          65.5       1000.65        6.0     24.90  "
      ]
     },
     "execution_count": 23,
     "metadata": {},
     "output_type": "execute_result"
    }
   ],
   "source": [
    "df.head()"
   ]
  },
  {
   "cell_type": "code",
   "execution_count": 25,
   "id": "e0e46122",
   "metadata": {},
   "outputs": [
    {
     "data": {
      "image/png": "[encoded data removed]",
      "text/plain": [
       "<Figure size 1080x720 with 9 Axes>"
      ]
     },
     "metadata": {
      "needs_background": "light"
     },
     "output_type": "display_data"
    }
   ],
   "source": [
    "import matplotlib.pyplot as plt\n",
    "numeric_features = [ 'Rainfall', 'Evaporation', 'Sunshine','RainToday_Yes','RangeTemp','Avg_Humidity','Avg_Pressure','Avg_Cloud','Avg_Temp']\n",
    "                    \n",
    "\n",
    "# Visualizing the relationship between numeric features and target variable\n",
    "plt.figure(figsize=(15, 10))\n",
    "for i, feature in enumerate(numeric_features, 1):\n",
    "    plt.subplot(3, 5, i)\n",
    "    sns.boxplot(x='RainTomorrow_Yes', y=feature, data=df)\n",
    "    plt.title(feature)\n",
    "plt.tight_layout()\n",
    "plt.show()"
   ]
  },
  {
   "cell_type": "markdown",
   "id": "bfe4244b",
   "metadata": {},
   "source": [
    "### Removing Outliers  "
   ]
  },
  {
   "cell_type": "code",
   "execution_count": 26,
   "id": "f5ad6165",
   "metadata": {},
   "outputs": [],
   "source": [
    "# removing outliers using Z-score method\n",
    "def remove_outliers_zscore(df,threshold=3):\n",
    "    z_scores = df.apply(lambda x: (x - x.mean()) / x.std())\n",
    "    return df[(z_scores < threshold).all(axis=1)]\n",
    "\n",
    "# Removing outliers from the dataset\n",
    "df= remove_outliers_zscore(df)\n"
   ]
  },
  {
   "cell_type": "code",
   "execution_count": 27,
   "id": "ecb0e22e",
   "metadata": {},
   "outputs": [
    {
     "data": {
      "text/plain": [
       "(2569, 10)"
      ]
     },
     "execution_count": 27,
     "metadata": {},
     "output_type": "execute_result"
    }
   ],
   "source": [
    "df.shape"
   ]
  },
  {
   "cell_type": "code",
   "execution_count": 28,
   "id": "b70d2356",
   "metadata": {},
   "outputs": [
    {
     "name": "stdout",
     "output_type": "stream",
     "text": [
      "Empty DataFrame\n",
      "Columns: [Rainfall, Evaporation, Sunshine, RainToday_Yes, RainTomorrow_Yes, RangeTemp, Avg_Humidity, Avg_Pressure, Avg_Cloud, Avg_Temp]\n",
      "Index: []\n"
     ]
    }
   ],
   "source": [
    "# checking duplicates\n",
    "duplicates = df.duplicated()\n",
    "\n",
    "print(df[duplicates])"
   ]
  },
  {
   "cell_type": "code",
   "execution_count": 29,
   "id": "dcf2cf45",
   "metadata": {},
   "outputs": [
    {
     "data": {
      "text/html": [
       "<div>\n",
       "<style scoped>\n",
       "    .dataframe tbody tr th:only-of-type {\n",
       "        vertical-align: middle;\n",
       "    }\n",
       "\n",
       "    .dataframe tbody tr th {\n",
       "        vertical-align: top;\n",
       "    }\n",
       "\n",
       "    .dataframe thead th {\n",
       "        text-align: right;\n",
       "    }\n",
       "</style>\n",
       "<table border=\"1\" class=\"dataframe\">\n",
       "  <thead>\n",
       "    <tr style=\"text-align: right;\">\n",
       "      <th></th>\n",
       "      <th>Rainfall</th>\n",
       "      <th>Evaporation</th>\n",
       "      <th>Sunshine</th>\n",
       "      <th>RainToday_Yes</th>\n",
       "      <th>RainTomorrow_Yes</th>\n",
       "      <th>RangeTemp</th>\n",
       "      <th>Avg_Humidity</th>\n",
       "      <th>Avg_Pressure</th>\n",
       "      <th>Avg_Cloud</th>\n",
       "      <th>Avg_Temp</th>\n",
       "    </tr>\n",
       "  </thead>\n",
       "  <tbody>\n",
       "    <tr>\n",
       "      <th>Rainfall</th>\n",
       "      <td>1.000000</td>\n",
       "      <td>-0.179160</td>\n",
       "      <td>-0.274630</td>\n",
       "      <td>0.728010</td>\n",
       "      <td>0.286507</td>\n",
       "      <td>-0.220243</td>\n",
       "      <td>0.344811</td>\n",
       "      <td>0.030657</td>\n",
       "      <td>0.269691</td>\n",
       "      <td>-0.081888</td>\n",
       "    </tr>\n",
       "    <tr>\n",
       "      <th>Evaporation</th>\n",
       "      <td>-0.179160</td>\n",
       "      <td>1.000000</td>\n",
       "      <td>0.199022</td>\n",
       "      <td>-0.230258</td>\n",
       "      <td>-0.082434</td>\n",
       "      <td>-0.142704</td>\n",
       "      <td>-0.269738</td>\n",
       "      <td>-0.325620</td>\n",
       "      <td>-0.035966</td>\n",
       "      <td>0.573413</td>\n",
       "    </tr>\n",
       "    <tr>\n",
       "      <th>Sunshine</th>\n",
       "      <td>-0.274630</td>\n",
       "      <td>0.199022</td>\n",
       "      <td>1.000000</td>\n",
       "      <td>-0.334117</td>\n",
       "      <td>-0.495263</td>\n",
       "      <td>0.556376</td>\n",
       "      <td>-0.577507</td>\n",
       "      <td>-0.089099</td>\n",
       "      <td>-0.820486</td>\n",
       "      <td>0.227816</td>\n",
       "    </tr>\n",
       "    <tr>\n",
       "      <th>RainToday_Yes</th>\n",
       "      <td>0.728010</td>\n",
       "      <td>-0.230258</td>\n",
       "      <td>-0.334117</td>\n",
       "      <td>1.000000</td>\n",
       "      <td>0.316352</td>\n",
       "      <td>-0.269488</td>\n",
       "      <td>0.377848</td>\n",
       "      <td>0.038295</td>\n",
       "      <td>0.317627</td>\n",
       "      <td>-0.113697</td>\n",
       "    </tr>\n",
       "    <tr>\n",
       "      <th>RainTomorrow_Yes</th>\n",
       "      <td>0.286507</td>\n",
       "      <td>-0.082434</td>\n",
       "      <td>-0.495263</td>\n",
       "      <td>0.316352</td>\n",
       "      <td>1.000000</td>\n",
       "      <td>-0.311163</td>\n",
       "      <td>0.422938</td>\n",
       "      <td>-0.016759</td>\n",
       "      <td>0.438824</td>\n",
       "      <td>-0.078109</td>\n",
       "    </tr>\n",
       "    <tr>\n",
       "      <th>RangeTemp</th>\n",
       "      <td>-0.220243</td>\n",
       "      <td>-0.142704</td>\n",
       "      <td>0.556376</td>\n",
       "      <td>-0.269488</td>\n",
       "      <td>-0.311163</td>\n",
       "      <td>1.000000</td>\n",
       "      <td>-0.509761</td>\n",
       "      <td>-0.029154</td>\n",
       "      <td>-0.527106</td>\n",
       "      <td>-0.003664</td>\n",
       "    </tr>\n",
       "    <tr>\n",
       "      <th>Avg_Humidity</th>\n",
       "      <td>0.344811</td>\n",
       "      <td>-0.269738</td>\n",
       "      <td>-0.577507</td>\n",
       "      <td>0.377848</td>\n",
       "      <td>0.422938</td>\n",
       "      <td>-0.509761</td>\n",
       "      <td>1.000000</td>\n",
       "      <td>0.261379</td>\n",
       "      <td>0.548985</td>\n",
       "      <td>-0.060448</td>\n",
       "    </tr>\n",
       "    <tr>\n",
       "      <th>Avg_Pressure</th>\n",
       "      <td>0.030657</td>\n",
       "      <td>-0.325620</td>\n",
       "      <td>-0.089099</td>\n",
       "      <td>0.038295</td>\n",
       "      <td>-0.016759</td>\n",
       "      <td>-0.029154</td>\n",
       "      <td>0.261379</td>\n",
       "      <td>1.000000</td>\n",
       "      <td>-0.011237</td>\n",
       "      <td>-0.403981</td>\n",
       "    </tr>\n",
       "    <tr>\n",
       "      <th>Avg_Cloud</th>\n",
       "      <td>0.269691</td>\n",
       "      <td>-0.035966</td>\n",
       "      <td>-0.820486</td>\n",
       "      <td>0.317627</td>\n",
       "      <td>0.438824</td>\n",
       "      <td>-0.527106</td>\n",
       "      <td>0.548985</td>\n",
       "      <td>-0.011237</td>\n",
       "      <td>1.000000</td>\n",
       "      <td>0.005833</td>\n",
       "    </tr>\n",
       "    <tr>\n",
       "      <th>Avg_Temp</th>\n",
       "      <td>-0.081888</td>\n",
       "      <td>0.573413</td>\n",
       "      <td>0.227816</td>\n",
       "      <td>-0.113697</td>\n",
       "      <td>-0.078109</td>\n",
       "      <td>-0.003664</td>\n",
       "      <td>-0.060448</td>\n",
       "      <td>-0.403981</td>\n",
       "      <td>0.005833</td>\n",
       "      <td>1.000000</td>\n",
       "    </tr>\n",
       "  </tbody>\n",
       "</table>\n",
       "</div>"
      ],
      "text/plain": [
       "                  Rainfall  Evaporation  Sunshine  RainToday_Yes  \\\n",
       "Rainfall          1.000000    -0.179160 -0.274630       0.728010   \n",
       "Evaporation      -0.179160     1.000000  0.199022      -0.230258   \n",
       "Sunshine         -0.274630     0.199022  1.000000      -0.334117   \n",
       "RainToday_Yes     0.728010    -0.230258 -0.334117       1.000000   \n",
       "RainTomorrow_Yes  0.286507    -0.082434 -0.495263       0.316352   \n",
       "RangeTemp        -0.220243    -0.142704  0.556376      -0.269488   \n",
       "Avg_Humidity      0.344811    -0.269738 -0.577507       0.377848   \n",
       "Avg_Pressure      0.030657    -0.325620 -0.089099       0.038295   \n",
       "Avg_Cloud         0.269691    -0.035966 -0.820486       0.317627   \n",
       "Avg_Temp         -0.081888     0.573413  0.227816      -0.113697   \n",
       "\n",
       "                  RainTomorrow_Yes  RangeTemp  Avg_Humidity  Avg_Pressure  \\\n",
       "Rainfall                  0.286507  -0.220243      0.344811      0.030657   \n",
       "Evaporation              -0.082434  -0.142704     -0.269738     -0.325620   \n",
       "Sunshine                 -0.495263   0.556376     -0.577507     -0.089099   \n",
       "RainToday_Yes             0.316352  -0.269488      0.377848      0.038295   \n",
       "RainTomorrow_Yes          1.000000  -0.311163      0.422938     -0.016759   \n",
       "RangeTemp                -0.311163   1.000000     -0.509761     -0.029154   \n",
       "Avg_Humidity              0.422938  -0.509761      1.000000      0.261379   \n",
       "Avg_Pressure             -0.016759  -0.029154      0.261379      1.000000   \n",
       "Avg_Cloud                 0.438824  -0.527106      0.548985     -0.011237   \n",
       "Avg_Temp                 -0.078109  -0.003664     -0.060448     -0.403981   \n",
       "\n",
       "                  Avg_Cloud  Avg_Temp  \n",
       "Rainfall           0.269691 -0.081888  \n",
       "Evaporation       -0.035966  0.573413  \n",
       "Sunshine          -0.820486  0.227816  \n",
       "RainToday_Yes      0.317627 -0.113697  \n",
       "RainTomorrow_Yes   0.438824 -0.078109  \n",
       "RangeTemp         -0.527106 -0.003664  \n",
       "Avg_Humidity       0.548985 -0.060448  \n",
       "Avg_Pressure      -0.011237 -0.403981  \n",
       "Avg_Cloud          1.000000  0.005833  \n",
       "Avg_Temp           0.005833  1.000000  "
      ]
     },
     "execution_count": 29,
     "metadata": {},
     "output_type": "execute_result"
    }
   ],
   "source": [
    "# Checking correlation\n",
    "df.corr()\n"
   ]
  },
  {
   "cell_type": "markdown",
   "id": "92cc9fe4",
   "metadata": {},
   "source": [
    "Sunshine and Avg_Cloud shows multicollinearity hence out of these two variable we need to delete Sunshine variable as it shows less value w.r.t target variable"
   ]
  },
  {
   "cell_type": "code",
   "execution_count": 30,
   "id": "74cbc315",
   "metadata": {},
   "outputs": [],
   "source": [
    "df.drop(['Sunshine'], axis=1, inplace=True)"
   ]
  },
  {
   "cell_type": "code",
   "execution_count": 31,
   "id": "6c351e9e",
   "metadata": {},
   "outputs": [
    {
     "name": "stdout",
     "output_type": "stream",
     "text": [
      "Empty DataFrame\n",
      "Columns: [Rainfall, Evaporation, RainToday_Yes, RainTomorrow_Yes, RangeTemp, Avg_Humidity, Avg_Pressure, Avg_Cloud, Avg_Temp]\n",
      "Index: []\n"
     ]
    }
   ],
   "source": [
    "# checking duplicates\n",
    "duplicates = df.duplicated()\n",
    "\n",
    "print(df[duplicates])"
   ]
  },
  {
   "cell_type": "markdown",
   "id": "c336a85e",
   "metadata": {},
   "source": [
    "No Duplicates found"
   ]
  },
  {
   "cell_type": "code",
   "execution_count": 32,
   "id": "0843e5d8",
   "metadata": {},
   "outputs": [
    {
     "data": {
      "image/png": "[encoded data removed]",
      "text/plain": [
       "<Figure size 1080x720 with 8 Axes>"
      ]
     },
     "metadata": {
      "needs_background": "light"
     },
     "output_type": "display_data"
    }
   ],
   "source": [
    "numeric_features = [ 'Rainfall', 'Evaporation', 'RainToday_Yes','RangeTemp','Avg_Humidity','Avg_Pressure','Avg_Cloud','Avg_Temp']\n",
    "\n",
    "# Visualizing the relationship between numeric features and target variable\n",
    "plt.figure(figsize=(15, 10))\n",
    "for i, feature in enumerate(numeric_features, 1):\n",
    "    plt.subplot(3, 5, i)\n",
    "    sns.boxplot(x='RainTomorrow_Yes', y=feature, data=df)\n",
    "    plt.title(feature)\n",
    "plt.tight_layout()\n",
    "plt.show()"
   ]
  },
  {
   "cell_type": "markdown",
   "id": "4fbeaf2c",
   "metadata": {},
   "source": [
    "### Steps Performing In Training the Model "
   ]
  },
  {
   "cell_type": "markdown",
   "id": "66608a89",
   "metadata": {},
   "source": [
    "#### a. Taking all independent features or variables into X \n",
    "#### b. Taking only Target feature or variable in y\n",
    "#### c. Splitting Train-Test data into 70:30 ratio\n",
    "#### d. Implementing the available Classification model's , making prediction on the test data  and then  evaluating the model's performance using suitable metrics  "
   ]
  },
  {
   "cell_type": "markdown",
   "id": "06c2db5a",
   "metadata": {},
   "source": [
    "##  X-y split  "
   ]
  },
  {
   "cell_type": "code",
   "execution_count": 33,
   "id": "38e51495",
   "metadata": {},
   "outputs": [],
   "source": [
    "X = df.drop(['RainTomorrow_Yes'] , axis=1)\n",
    "y = df['RainTomorrow_Yes']"
   ]
  },
  {
   "cell_type": "code",
   "execution_count": 34,
   "id": "8d8adf77",
   "metadata": {},
   "outputs": [
    {
     "data": {
      "text/html": [
       "<div>\n",
       "<style scoped>\n",
       "    .dataframe tbody tr th:only-of-type {\n",
       "        vertical-align: middle;\n",
       "    }\n",
       "\n",
       "    .dataframe tbody tr th {\n",
       "        vertical-align: top;\n",
       "    }\n",
       "\n",
       "    .dataframe thead th {\n",
       "        text-align: right;\n",
       "    }\n",
       "</style>\n",
       "<table border=\"1\" class=\"dataframe\">\n",
       "  <thead>\n",
       "    <tr style=\"text-align: right;\">\n",
       "      <th></th>\n",
       "      <th>Rainfall</th>\n",
       "      <th>Evaporation</th>\n",
       "      <th>RainToday_Yes</th>\n",
       "      <th>RangeTemp</th>\n",
       "      <th>Avg_Humidity</th>\n",
       "      <th>Avg_Pressure</th>\n",
       "      <th>Avg_Cloud</th>\n",
       "      <th>Avg_Temp</th>\n",
       "    </tr>\n",
       "  </thead>\n",
       "  <tbody>\n",
       "    <tr>\n",
       "      <th>0</th>\n",
       "      <td>15.6</td>\n",
       "      <td>6.2</td>\n",
       "      <td>1</td>\n",
       "      <td>2.9</td>\n",
       "      <td>88.0</td>\n",
       "      <td>1017.50</td>\n",
       "      <td>8.0</td>\n",
       "      <td>20.80</td>\n",
       "    </tr>\n",
       "    <tr>\n",
       "      <th>1</th>\n",
       "      <td>6.0</td>\n",
       "      <td>3.4</td>\n",
       "      <td>1</td>\n",
       "      <td>6.1</td>\n",
       "      <td>78.0</td>\n",
       "      <td>1017.15</td>\n",
       "      <td>7.0</td>\n",
       "      <td>23.60</td>\n",
       "    </tr>\n",
       "    <tr>\n",
       "      <th>2</th>\n",
       "      <td>6.6</td>\n",
       "      <td>2.4</td>\n",
       "      <td>1</td>\n",
       "      <td>2.9</td>\n",
       "      <td>87.0</td>\n",
       "      <td>1016.15</td>\n",
       "      <td>7.5</td>\n",
       "      <td>23.25</td>\n",
       "    </tr>\n",
       "    <tr>\n",
       "      <th>3</th>\n",
       "      <td>18.8</td>\n",
       "      <td>2.2</td>\n",
       "      <td>1</td>\n",
       "      <td>2.6</td>\n",
       "      <td>86.5</td>\n",
       "      <td>1013.00</td>\n",
       "      <td>8.0</td>\n",
       "      <td>21.15</td>\n",
       "    </tr>\n",
       "    <tr>\n",
       "      <th>5</th>\n",
       "      <td>1.6</td>\n",
       "      <td>2.6</td>\n",
       "      <td>1</td>\n",
       "      <td>7.0</td>\n",
       "      <td>65.5</td>\n",
       "      <td>1000.65</td>\n",
       "      <td>6.0</td>\n",
       "      <td>24.90</td>\n",
       "    </tr>\n",
       "  </tbody>\n",
       "</table>\n",
       "</div>"
      ],
      "text/plain": [
       "   Rainfall  Evaporation  RainToday_Yes  RangeTemp  Avg_Humidity  \\\n",
       "0      15.6          6.2              1        2.9          88.0   \n",
       "1       6.0          3.4              1        6.1          78.0   \n",
       "2       6.6          2.4              1        2.9          87.0   \n",
       "3      18.8          2.2              1        2.6          86.5   \n",
       "5       1.6          2.6              1        7.0          65.5   \n",
       "\n",
       "   Avg_Pressure  Avg_Cloud  Avg_Temp  \n",
       "0       1017.50        8.0     20.80  \n",
       "1       1017.15        7.0     23.60  \n",
       "2       1016.15        7.5     23.25  \n",
       "3       1013.00        8.0     21.15  \n",
       "5       1000.65        6.0     24.90  "
      ]
     },
     "execution_count": 34,
     "metadata": {},
     "output_type": "execute_result"
    }
   ],
   "source": [
    "X.head()"
   ]
  },
  {
   "cell_type": "code",
   "execution_count": 35,
   "id": "3917cfee",
   "metadata": {},
   "outputs": [
    {
     "data": {
      "text/plain": [
       "(2569, 8)"
      ]
     },
     "execution_count": 35,
     "metadata": {},
     "output_type": "execute_result"
    }
   ],
   "source": [
    "X.shape"
   ]
  },
  {
   "cell_type": "code",
   "execution_count": 36,
   "id": "336ec8fe",
   "metadata": {},
   "outputs": [
    {
     "data": {
      "text/plain": [
       "0    1\n",
       "1    1\n",
       "2    1\n",
       "3    1\n",
       "5    1\n",
       "Name: RainTomorrow_Yes, dtype: uint8"
      ]
     },
     "execution_count": 36,
     "metadata": {},
     "output_type": "execute_result"
    }
   ],
   "source": [
    "y.head()"
   ]
  },
  {
   "cell_type": "code",
   "execution_count": 37,
   "id": "980c964b",
   "metadata": {},
   "outputs": [
    {
     "data": {
      "text/plain": [
       "(2569,)"
      ]
     },
     "execution_count": 37,
     "metadata": {},
     "output_type": "execute_result"
    }
   ],
   "source": [
    "y.shape"
   ]
  },
  {
   "cell_type": "markdown",
   "id": "7d0dc5dd",
   "metadata": {},
   "source": [
    "### Test-Train Split  "
   ]
  },
  {
   "cell_type": "markdown",
   "id": "579988fd",
   "metadata": {},
   "source": [
    "### Applying Multiple Logistic Regression Model  "
   ]
  },
  {
   "cell_type": "code",
   "execution_count": 38,
   "id": "e55deebb",
   "metadata": {},
   "outputs": [],
   "source": [
    "# Splitting Train-Test data into 80:20 ratio\n",
    "X_train, X_test, y_train, y_test = train_test_split(X, y, test_size=0.2, random_state=0)"
   ]
  },
  {
   "cell_type": "code",
   "execution_count": 39,
   "id": "d4513f10",
   "metadata": {},
   "outputs": [],
   "source": [
    "# Applying Multiple Linear Regression Model\n",
    "model = LogisticRegression()"
   ]
  },
  {
   "cell_type": "code",
   "execution_count": 40,
   "id": "c254479f",
   "metadata": {},
   "outputs": [
    {
     "data": {
      "text/plain": [
       "(514,)"
      ]
     },
     "execution_count": 40,
     "metadata": {},
     "output_type": "execute_result"
    }
   ],
   "source": [
    "y_test.shape"
   ]
  },
  {
   "cell_type": "code",
   "execution_count": 41,
   "id": "2adf8b32",
   "metadata": {},
   "outputs": [],
   "source": [
    "# Standardize the data\n",
    "scaler = StandardScaler()\n",
    "X_train_lg = scaler.fit_transform(X_train)\n",
    "X_test_lg = scaler.transform(X_test)\n",
    "\n",
    "# Fitting the model\n",
    "model.fit(X_train_lg, y_train)\n",
    "\n",
    "# Making predictions on the test data\n",
    "y_pred_lg = model.predict(X_test_lg)"
   ]
  },
  {
   "cell_type": "code",
   "execution_count": 42,
   "id": "d9e3aecc",
   "metadata": {},
   "outputs": [],
   "source": [
    "accuracy_log_reg = accuracy_score(y_test, y_pred_lg)"
   ]
  },
  {
   "cell_type": "code",
   "execution_count": 43,
   "id": "cd0945c1",
   "metadata": {},
   "outputs": [
    {
     "name": "stdout",
     "output_type": "stream",
     "text": [
      "Accuracy of Logistic Regression: 0.8229571984435797\n"
     ]
    }
   ],
   "source": [
    "print(\"Accuracy of Logistic Regression:\", accuracy_log_reg)"
   ]
  },
  {
   "cell_type": "code",
   "execution_count": 44,
   "id": "603b54df",
   "metadata": {},
   "outputs": [],
   "source": [
    "# Create confusion matrix \n",
    "confusion_matrix_log_reg= confusion_matrix(y_test, y_pred_lg)"
   ]
  },
  {
   "cell_type": "code",
   "execution_count": 45,
   "id": "15b24422",
   "metadata": {},
   "outputs": [
    {
     "name": "stdout",
     "output_type": "stream",
     "text": [
      "Confusion Matrix for Logistic Regression:\n",
      "[[364  24]\n",
      " [ 67  59]]\n"
     ]
    }
   ],
   "source": [
    "print(\"Confusion Matrix for Logistic Regression:\")\n",
    "print(confusion_matrix_log_reg)"
   ]
  },
  {
   "cell_type": "markdown",
   "id": "203ace3d",
   "metadata": {},
   "source": [
    "### Applying Ridge"
   ]
  },
  {
   "cell_type": "code",
   "execution_count": 46,
   "id": "ac5871c3",
   "metadata": {},
   "outputs": [],
   "source": [
    "# Standardize the data\n",
    "scaler = StandardScaler()\n",
    "X_train_r = scaler.fit_transform(X_train)\n",
    "X_test_r = scaler.transform(X_test)\n",
    "\n",
    "ridge_model = RidgeClassifier(alpha=1.0)\n",
    "ridge_model.fit(X_train_r, y_train)\n",
    "y_pred_ridge = ridge_model.predict(X_test_r)"
   ]
  },
  {
   "cell_type": "code",
   "execution_count": 47,
   "id": "931b0d34",
   "metadata": {},
   "outputs": [
    {
     "name": "stdout",
     "output_type": "stream",
     "text": [
      "Accuracy of Ridge:\n"
     ]
    },
    {
     "data": {
      "text/plain": [
       "0.8268482490272373"
      ]
     },
     "execution_count": 47,
     "metadata": {},
     "output_type": "execute_result"
    }
   ],
   "source": [
    "accuracy_ridge = accuracy_score(y_test, y_pred_ridge)\n",
    "print(\"Accuracy of Ridge:\")\n",
    "accuracy_ridge"
   ]
  },
  {
   "cell_type": "code",
   "execution_count": 48,
   "id": "a12fd40f",
   "metadata": {},
   "outputs": [],
   "source": [
    "# Create confusion matrix \n",
    "confusion_matrix_ridge= confusion_matrix(y_test, y_pred_ridge)"
   ]
  },
  {
   "cell_type": "code",
   "execution_count": 49,
   "id": "e7271004",
   "metadata": {},
   "outputs": [
    {
     "name": "stdout",
     "output_type": "stream",
     "text": [
      "Confusion Matrix for Ridge:\n",
      "[[369  19]\n",
      " [ 70  56]]\n"
     ]
    }
   ],
   "source": [
    "print(\"Confusion Matrix for Ridge:\")\n",
    "print(confusion_matrix_ridge)"
   ]
  },
  {
   "cell_type": "markdown",
   "id": "f5f79573",
   "metadata": {},
   "source": [
    "### XG Boost "
   ]
  },
  {
   "cell_type": "code",
   "execution_count": 50,
   "id": "4bcdba37",
   "metadata": {},
   "outputs": [
    {
     "data": {
      "text/plain": [
       "0.7937743190661478"
      ]
     },
     "execution_count": 50,
     "metadata": {},
     "output_type": "execute_result"
    }
   ],
   "source": [
    "xgb_clf=xgb.XGBClassifier(max_depth=3,n_estimators=100,n_jobs=-1)\n",
    "\n",
    "# Standardize the data\n",
    "scaler = StandardScaler()\n",
    "X_train_ab = scaler.fit_transform(X_train)\n",
    "X_test_ab= scaler.transform(X_test)\n",
    "\n",
    "# Fitting the model\n",
    "xgb_clf.fit(X_train_ab,y_train)\n",
    "# Predicting the model on the test data\n",
    "y_pred_ab = xgb_clf.predict(X_test_ab)\n",
    "accuracy_score(y_test,y_pred_ab)"
   ]
  },
  {
   "cell_type": "code",
   "execution_count": 51,
   "id": "ba582bd7",
   "metadata": {},
   "outputs": [
    {
     "name": "stdout",
     "output_type": "stream",
     "text": [
      "Confusion Matrix for XG Boost:\n",
      "[[351  37]\n",
      " [ 69  57]]\n"
     ]
    }
   ],
   "source": [
    "# Create confusion matrix \n",
    "confusion_matrix_ridge_xg= confusion_matrix(y_test, y_pred_ab)\n",
    "print(\"Confusion Matrix for XG Boost:\")\n",
    "print(confusion_matrix_ridge_xg)"
   ]
  },
  {
   "cell_type": "markdown",
   "id": "f8428ab1",
   "metadata": {},
   "source": [
    "### LinearDiscriminantAnalysis"
   ]
  },
  {
   "cell_type": "code",
   "execution_count": 52,
   "id": "b8895fc7",
   "metadata": {},
   "outputs": [],
   "source": [
    "model = LinearDiscriminantAnalysis()"
   ]
  },
  {
   "cell_type": "code",
   "execution_count": 53,
   "id": "94cdd3d0",
   "metadata": {},
   "outputs": [],
   "source": [
    "# Standardize the data\n",
    "scaler = StandardScaler()\n",
    "X_train_l = scaler.fit_transform(X_train)\n",
    "X_test_l = scaler.transform(X_test)\n",
    "\n",
    "# Fitting the model\n",
    "model.fit(X_train_l, y_train)\n",
    "\n",
    "# Making predictions on the test data\n",
    "y_pred_l = model.predict(X_test_l)"
   ]
  },
  {
   "cell_type": "code",
   "execution_count": 54,
   "id": "f86fc4bc",
   "metadata": {},
   "outputs": [
    {
     "name": "stdout",
     "output_type": "stream",
     "text": [
      "Accuracy of LDA: 0.8326848249027238\n"
     ]
    }
   ],
   "source": [
    "accuracy_lda = accuracy_score(y_test, y_pred_l)\n",
    "print(\"Accuracy of LDA:\", accuracy_lda)"
   ]
  },
  {
   "cell_type": "code",
   "execution_count": 55,
   "id": "e9bff738",
   "metadata": {},
   "outputs": [],
   "source": [
    "# Create confusion matrix \n",
    "confusion_matrix_lda= confusion_matrix(y_test, y_pred_l)"
   ]
  },
  {
   "cell_type": "code",
   "execution_count": 56,
   "id": "95198d04",
   "metadata": {},
   "outputs": [
    {
     "name": "stdout",
     "output_type": "stream",
     "text": [
      "Confusion Matrix for Logistic Regression:\n",
      "[[364  24]\n",
      " [ 62  64]]\n"
     ]
    }
   ],
   "source": [
    "print(\"Confusion Matrix for Logistic Regression:\")\n",
    "print(confusion_matrix_lda)"
   ]
  },
  {
   "cell_type": "code",
   "execution_count": 57,
   "id": "1e8c0cd3",
   "metadata": {},
   "outputs": [
    {
     "data": {
      "image/png": "[encoded data removed]",
      "text/plain": [
       "<Figure size 576x432 with 1 Axes>"
      ]
     },
     "metadata": {
      "needs_background": "light"
     },
     "output_type": "display_data"
    }
   ],
   "source": [
    "# Visualizing confusion matrix\n",
    "import matplotlib.pyplot as plt\n",
    "cm = confusion_matrix(y_test, y_pred_l)\n",
    "plt.figure(figsize=(8, 6))\n",
    "sns.heatmap(cm, annot=True, fmt='d', cmap='Blues', cbar=False)\n",
    "plt.xlabel('Predicted Labels')\n",
    "plt.ylabel('True Labels')\n",
    "plt.title('Confusion Matrix')\n",
    "plt.show()"
   ]
  },
  {
   "cell_type": "code",
   "execution_count": 58,
   "id": "cb5e4081",
   "metadata": {},
   "outputs": [
    {
     "data": {
      "image/png": "[encoded data removed]",
      "text/plain": [
       "<Figure size 576x432 with 1 Axes>"
      ]
     },
     "metadata": {
      "needs_background": "light"
     },
     "output_type": "display_data"
    }
   ],
   "source": [
    "from sklearn.metrics import roc_curve, roc_auc_score\n",
    "y_probs_l = model.predict_proba(X_test_l)[:, 1]\n",
    "fpr, tpr, thresholds = roc_curve(y_test, y_probs_l)\n",
    "roc_auc = roc_auc_score(y_test, y_probs_l)\n",
    "\n",
    "# Ploting ROC curve\n",
    "plt.figure(figsize=(8, 6))\n",
    "plt.plot(fpr, tpr, label=f'ROC curve (area = {roc_auc:.2f})')\n",
    "plt.plot([0, 1], [0, 1], 'k--', label='Random')\n",
    "plt.xlabel('False Positive Rate')\n",
    "plt.ylabel('True Positive Rate')\n",
    "plt.title('Receiver Operating Characteristic (ROC) Curve')\n",
    "plt.legend(loc='lower right')\n",
    "plt.show()"
   ]
  },
  {
   "cell_type": "markdown",
   "id": "7b65846a",
   "metadata": {},
   "source": [
    "The ROC curve has an area of 0.84, which means that  LDA model has some level of discrimination power and is better than random guessing"
   ]
  },
  {
   "cell_type": "markdown",
   "id": "854a4b29",
   "metadata": {},
   "source": [
    "### KNN  "
   ]
  },
  {
   "cell_type": "code",
   "execution_count": 59,
   "id": "32550c1d",
   "metadata": {},
   "outputs": [],
   "source": [
    "model = KNeighborsClassifier(n_neighbors=5) \n",
    "# Standardize the data\n",
    "scaler = StandardScaler()\n",
    "X_train_k = scaler.fit_transform(X_train)\n",
    "X_test_k = scaler.transform(X_test)\n",
    "\n",
    "# Train the KNN classifier\n",
    "model.fit(X_train_k, y_train)\n",
    "\n",
    "# Make predictions on the test set\n",
    "y_pred_k =model.predict(X_test_k)"
   ]
  },
  {
   "cell_type": "code",
   "execution_count": 60,
   "id": "f860071c",
   "metadata": {},
   "outputs": [
    {
     "name": "stdout",
     "output_type": "stream",
     "text": [
      "Accuracy of LDA: 0.8054474708171206\n"
     ]
    }
   ],
   "source": [
    "accuracy_knn = accuracy_score(y_test, y_pred_k)\n",
    "print(\"Accuracy of LDA:\", accuracy_knn)"
   ]
  },
  {
   "cell_type": "code",
   "execution_count": 61,
   "id": "6e28d2c9",
   "metadata": {},
   "outputs": [],
   "source": [
    "# Create confusion matrix \n",
    "confusion_matrix_knn= confusion_matrix(y_test, y_pred_k)"
   ]
  },
  {
   "cell_type": "code",
   "execution_count": 62,
   "id": "a777623e",
   "metadata": {},
   "outputs": [
    {
     "name": "stdout",
     "output_type": "stream",
     "text": [
      "Confusion Matrix for KNN:\n",
      "[[355  33]\n",
      " [ 67  59]]\n"
     ]
    }
   ],
   "source": [
    "print(\"Confusion Matrix for KNN:\")\n",
    "print(confusion_matrix_knn)"
   ]
  },
  {
   "cell_type": "markdown",
   "id": "6d8a7778",
   "metadata": {},
   "source": [
    "### Applying Decision Tree "
   ]
  },
  {
   "cell_type": "code",
   "execution_count": 63,
   "id": "153454d5",
   "metadata": {},
   "outputs": [],
   "source": [
    "# Implementing Decision Tree\n",
    "from sklearn import tree\n",
    "clftree=tree.DecisionTreeClassifier(max_depth=3)"
   ]
  },
  {
   "cell_type": "code",
   "execution_count": 64,
   "id": "2241eec3",
   "metadata": {},
   "outputs": [
    {
     "name": "stdout",
     "output_type": "stream",
     "text": [
      "Accuracy of DT: 0.7957198443579766\n"
     ]
    }
   ],
   "source": [
    "# Standardize the data\n",
    "scaler = StandardScaler()\n",
    "X_train_t = scaler.fit_transform(X_train)\n",
    "X_test_t = scaler.transform(X_test)\n",
    "\n",
    "# Fitting the model\n",
    "clftree.fit(X_train_t,y_train)\n",
    "\n",
    "# Predicting the model on the test data\n",
    "y_pred_t = clftree.predict(X_test_t)\n",
    "\n",
    "accuracy_dt = accuracy_score(y_test, y_pred_t)\n",
    "print(\"Accuracy of DT:\", accuracy_dt)\n"
   ]
  },
  {
   "cell_type": "code",
   "execution_count": 65,
   "id": "14bb8d57",
   "metadata": {},
   "outputs": [
    {
     "name": "stdout",
     "output_type": "stream",
     "text": [
      "Confusion Matrix for DT:\n",
      "[[373  15]\n",
      " [ 90  36]]\n"
     ]
    }
   ],
   "source": [
    "# Create confusion matrix \n",
    "confusion_matrix_dt= confusion_matrix(y_test, y_pred_t)\n",
    "print(\"Confusion Matrix for DT:\")\n",
    "print(confusion_matrix_dt)"
   ]
  },
  {
   "cell_type": "markdown",
   "id": "d15d8274",
   "metadata": {},
   "source": [
    "### Applying Bagging "
   ]
  },
  {
   "cell_type": "code",
   "execution_count": 66,
   "id": "6b45ce55",
   "metadata": {},
   "outputs": [
    {
     "name": "stdout",
     "output_type": "stream",
     "text": [
      "Accuracy of Bagging: 0.8035019455252919\n"
     ]
    }
   ],
   "source": [
    "from sklearn.ensemble import BaggingClassifier\n",
    "bag_clf=BaggingClassifier()\n",
    "# Standardize the data\n",
    "scaler = StandardScaler()\n",
    "X_train_b = scaler.fit_transform(X_train)\n",
    "X_test_b = scaler.transform(X_test)\n",
    "# Fitting the model\n",
    "bag_clf.fit(X_train_b,y_train)\n",
    "# Predicting the model on the test data\n",
    "y_pred_b = bag_clf.predict(X_test_b)\n",
    "accuracy_b = accuracy_score(y_test, y_pred_b)\n",
    "print(\"Accuracy of Bagging:\", accuracy_b)"
   ]
  },
  {
   "cell_type": "code",
   "execution_count": 67,
   "id": "4ea93545",
   "metadata": {},
   "outputs": [
    {
     "name": "stdout",
     "output_type": "stream",
     "text": [
      "Confusion Matrix for Bagging:\n",
      "[[361  27]\n",
      " [ 74  52]]\n"
     ]
    }
   ],
   "source": [
    "# Create confusion matrix \n",
    "confusion_matrix_b= confusion_matrix(y_test, y_pred_b)\n",
    "print(\"Confusion Matrix for Bagging:\")\n",
    "print(confusion_matrix_b)"
   ]
  },
  {
   "cell_type": "markdown",
   "id": "cfd60341",
   "metadata": {},
   "source": [
    "## Random Forest  "
   ]
  },
  {
   "cell_type": "code",
   "execution_count": 68,
   "id": "dc460487",
   "metadata": {},
   "outputs": [
    {
     "name": "stdout",
     "output_type": "stream",
     "text": [
      "Accuracy of Bagging: 0.8190661478599222\n"
     ]
    }
   ],
   "source": [
    "# Implementing Random Forest\n",
    "rf_clf = RandomForestClassifier(n_estimators=1000,n_jobs=-1, random_state=0)\n",
    "\n",
    "# Standardize the data\n",
    "scaler = StandardScaler()\n",
    "X_train_f = scaler.fit_transform(X_train)\n",
    "X_test_f = scaler.transform(X_test)\n",
    "\n",
    "# Fitting the model\n",
    "rf_clf.fit(X_train_f, y_train)\n",
    "\n",
    "# Predicting the model on the test data\n",
    "y_pred_f = rf_clf.predict(X_test_f)\n",
    "\n",
    "accuracy_f = accuracy_score(y_test, y_pred_f)\n",
    "print(\"Accuracy of Bagging:\", accuracy_f)\n"
   ]
  },
  {
   "cell_type": "code",
   "execution_count": 69,
   "id": "69e2f7a0",
   "metadata": {},
   "outputs": [
    {
     "name": "stdout",
     "output_type": "stream",
     "text": [
      "Confusion Matrix for Bagging:\n",
      "[[369  19]\n",
      " [ 74  52]]\n"
     ]
    }
   ],
   "source": [
    "# Create confusion matrix \n",
    "confusion_matrix_f= confusion_matrix(y_test, y_pred_f)\n",
    "print(\"Confusion Matrix for Bagging:\")\n",
    "print(confusion_matrix_f)"
   ]
  },
  {
   "cell_type": "markdown",
   "id": "c259c92d",
   "metadata": {},
   "source": [
    "### Gradient Boosting "
   ]
  },
  {
   "cell_type": "code",
   "execution_count": 70,
   "id": "3210a7f1",
   "metadata": {},
   "outputs": [
    {
     "name": "stdout",
     "output_type": "stream",
     "text": [
      "Accuracy of Bagging: 0.8190661478599222\n"
     ]
    }
   ],
   "source": [
    "# Implementing Gradient Boosting\n",
    "gbr_clf=GradientBoostingClassifier()\n",
    "# Standardize the data\n",
    "scaler = StandardScaler()\n",
    "X_train_g = scaler.fit_transform(X_train)\n",
    "X_test_g = scaler.transform(X_test)\n",
    "# Fitting the model\n",
    "gbr_clf.fit(X_train_g,y_train)\n",
    "\n",
    "\n",
    "# Predicting the model on the test data\n",
    "y_pred_g = gbr_clf.predict(X_test_g)\n",
    "\n",
    "accuracy_g = accuracy_score(y_test, y_pred_g)\n",
    "print(\"Accuracy of Bagging:\", accuracy_g)"
   ]
  },
  {
   "cell_type": "code",
   "execution_count": 71,
   "id": "e01211cc",
   "metadata": {},
   "outputs": [
    {
     "name": "stdout",
     "output_type": "stream",
     "text": [
      "Confusion Matrix for Bagging:\n",
      "[[367  21]\n",
      " [ 72  54]]\n"
     ]
    }
   ],
   "source": [
    "# Create confusion matrix \n",
    "confusion_matrix_g= confusion_matrix(y_test, y_pred_g)\n",
    "print(\"Confusion Matrix for Bagging:\")\n",
    "print(confusion_matrix_g)"
   ]
  },
  {
   "cell_type": "markdown",
   "id": "ccea6109",
   "metadata": {},
   "source": [
    "### Ada Boost  "
   ]
  },
  {
   "cell_type": "code",
   "execution_count": 72,
   "id": "0a9fd80f",
   "metadata": {},
   "outputs": [
    {
     "name": "stdout",
     "output_type": "stream",
     "text": [
      "Accuracy of Bagging: 0.7859922178988327\n"
     ]
    }
   ],
   "source": [
    "from sklearn.ensemble import AdaBoostClassifier\n",
    "# Implementing Ada Boost\n",
    "ada_clf=AdaBoostClassifier(n_estimators=500)\n",
    "# Standardize the data\n",
    "scaler = StandardScaler()\n",
    "X_train_ab = scaler.fit_transform(X_train)\n",
    "X_test_ab= scaler.transform(X_test)\n",
    "\n",
    "# Fitting the model\n",
    "ada_clf.fit(X_train_ab,y_train)\n",
    "\n",
    "# Predicting the model on the test data\n",
    "y_pred_ab = ada_clf.predict(X_test_ab)\n",
    "\n",
    "accuracy_ab = accuracy_score(y_test, y_pred_ab)\n",
    "print(\"Accuracy of Bagging:\", accuracy_ab)"
   ]
  },
  {
   "cell_type": "code",
   "execution_count": 73,
   "id": "0a008f3f",
   "metadata": {},
   "outputs": [
    {
     "name": "stdout",
     "output_type": "stream",
     "text": [
      "Confusion Matrix for Bagging:\n",
      "[[351  37]\n",
      " [ 73  53]]\n"
     ]
    }
   ],
   "source": [
    "# Create confusion matrix \n",
    "confusion_matrix_ab= confusion_matrix(y_test, y_pred_ab)\n",
    "print(\"Confusion Matrix for Bagging:\")\n",
    "print(confusion_matrix_ab)"
   ]
  }
 ],
 "metadata": {
  "kernelspec": {
   "display_name": "Python 3 (ipykernel)",
   "language": "python",
   "name": "python3"
  },
  "language_info": {
   "codemirror_mode": {
    "name": "ipython",
    "version": 3
   },
   "file_extension": ".py",
   "mimetype": "text/x-python",
   "name": "python",
   "nbconvert_exporter": "python",
   "pygments_lexer": "ipython3",
   "version": "3.12.2"
  }
 },
 "nbformat": 4,
 "nbformat_minor": 5
}
